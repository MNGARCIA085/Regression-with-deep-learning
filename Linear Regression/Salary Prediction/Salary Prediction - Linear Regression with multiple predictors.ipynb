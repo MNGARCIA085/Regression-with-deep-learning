{
 "cells": [
  {
   "cell_type": "markdown",
   "id": "170c1777",
   "metadata": {},
   "source": [
    "# <b> <center> <font color='blue'> SALARY PREDICTION </font> </color> </b>"
   ]
  },
  {
   "cell_type": "markdown",
   "id": "ecf1839b",
   "metadata": {},
   "source": [
    "## Table of Contents\n",
    "\n",
    "1. [Problem Statement](#1)\n",
    "2. [Modules](#2)\n",
    "3. [Helper Functions](#3)\n",
    "4. [Data Loading, Exploration and Pre-processing](#4)\n",
    "5. [Build, compile and train the model](#5)\n",
    "6. [Making predictions](#6)"
   ]
  },
  {
   "cell_type": "markdown",
   "id": "19c54674",
   "metadata": {},
   "source": [
    "<a name=\"1\"></a>\n",
    "## <b> <font color='#21618C'> 1. Problem Statement </font> </color>\n",
    "\n",
    "We are going to predict the salary using several features."
   ]
  },
  {
   "cell_type": "markdown",
   "id": "261de9ec",
   "metadata": {},
   "source": [
    "<a name=\"2\"></a>\n",
    "## <b> <font color='#21618C'> 2. Modules </font> </color>"
   ]
  },
  {
   "cell_type": "code",
   "execution_count": 6,
   "id": "dbee22c9",
   "metadata": {},
   "outputs": [],
   "source": [
    "import os\n",
    "os.environ['TF_CPP_MIN_LOG_LEVEL'] = '2' \n",
    "\n",
    "import warnings\n",
    "warnings.filterwarnings('ignore')"
   ]
  },
  {
   "cell_type": "code",
   "execution_count": 28,
   "id": "06244c83",
   "metadata": {},
   "outputs": [],
   "source": [
    "import matplotlib.pyplot as plt\n",
    "import numpy as np\n",
    "import pandas as pd\n",
    "import seaborn as sns\n",
    "import tensorflow as tf\n",
    "\n",
    "from sklearn.model_selection import train_test_split\n",
    "from sklearn.preprocessing import StandardScaler\n",
    "from tensorflow.keras import layers\n",
    "from tensorflow.keras.callbacks import EarlyStopping\n",
    "\n",
    "from sklearn.compose import make_column_transformer\n",
    "from sklearn.preprocessing import MinMaxScaler, OneHotEncoder\n",
    "from sklearn.impute import SimpleImputer\n",
    "from sklearn.pipeline import make_pipeline\n",
    "\n",
    "from sklearn.linear_model import LinearRegression\n",
    "from sklearn.metrics import mean_absolute_error, mean_squared_error"
   ]
  },
  {
   "cell_type": "markdown",
   "id": "c9be2340",
   "metadata": {},
   "source": [
    "<a name=\"3\"></a>\n",
    "## <b> <font color='#21618C'> 3. Helper Functions </font> </color>"
   ]
  },
  {
   "cell_type": "code",
   "execution_count": 46,
   "id": "6441e55a",
   "metadata": {},
   "outputs": [],
   "source": [
    "# plotting utilities\n",
    "\n",
    "def plot_history(history):\n",
    "    hist = pd.DataFrame(history.history)\n",
    "    hist['epoch'] = history.epoch\n",
    "\n",
    "    # Create a figure with two subplots side by side\n",
    "    fig, axs = plt.subplots(1, 2, figsize=(12, 6))  # 1 row, 2 columns\n",
    "\n",
    "    axs[0].set_title('MAE',fontsize=14, fontweight='bold',color='red')\n",
    "    axs[0].set_xlabel('Epoch')\n",
    "    axs[0].set_ylabel('Mean Abs Error [MPG]')\n",
    "    axs[0].plot(hist['epoch'], hist['mae'],\n",
    "           label='Train Error')\n",
    "    axs[0].plot(hist['epoch'], hist['val_mae'],\n",
    "           label = 'Val Error')\n",
    "    axs[0].legend()\n",
    "\n",
    "\n",
    "    axs[1].set_title('MSE',fontsize=14, fontweight='bold',color='orange')\n",
    "    axs[1].set_xlabel('Epoch')\n",
    "    axs[1].set_ylabel('Mean Square Error [$MPG^2$]')\n",
    "    axs[1].plot(hist['epoch'], hist['mse'],\n",
    "           label='Train Error')\n",
    "    axs[1].plot(hist['epoch'], hist['val_mse'],\n",
    "           label = 'Val Error')\n",
    "    axs[1].legend()"
   ]
  },
  {
   "cell_type": "markdown",
   "id": "54dbb24a",
   "metadata": {},
   "source": [
    "<a name=\"3\"></a>\n",
    "## <b> <font color='#21618C'> 3. Data Loading, Exploration and Pre-processing </font> </color>\n",
    "\n",
    "### Loading data and exploring"
   ]
  },
  {
   "cell_type": "code",
   "execution_count": 18,
   "id": "6068a2d8",
   "metadata": {},
   "outputs": [
    {
     "data": {
      "text/html": [
       "<div>\n",
       "<style scoped>\n",
       "    .dataframe tbody tr th:only-of-type {\n",
       "        vertical-align: middle;\n",
       "    }\n",
       "\n",
       "    .dataframe tbody tr th {\n",
       "        vertical-align: top;\n",
       "    }\n",
       "\n",
       "    .dataframe thead th {\n",
       "        text-align: right;\n",
       "    }\n",
       "</style>\n",
       "<table border=\"1\" class=\"dataframe\">\n",
       "  <thead>\n",
       "    <tr style=\"text-align: right;\">\n",
       "      <th></th>\n",
       "      <th>Age</th>\n",
       "      <th>Gender</th>\n",
       "      <th>Education Level</th>\n",
       "      <th>Job Title</th>\n",
       "      <th>Years of Experience</th>\n",
       "      <th>Salary</th>\n",
       "    </tr>\n",
       "  </thead>\n",
       "  <tbody>\n",
       "    <tr>\n",
       "      <th>0</th>\n",
       "      <td>32.0</td>\n",
       "      <td>Male</td>\n",
       "      <td>Bachelor's</td>\n",
       "      <td>Software Engineer</td>\n",
       "      <td>5.0</td>\n",
       "      <td>90000.0</td>\n",
       "    </tr>\n",
       "    <tr>\n",
       "      <th>1</th>\n",
       "      <td>28.0</td>\n",
       "      <td>Female</td>\n",
       "      <td>Master's</td>\n",
       "      <td>Data Analyst</td>\n",
       "      <td>3.0</td>\n",
       "      <td>65000.0</td>\n",
       "    </tr>\n",
       "    <tr>\n",
       "      <th>2</th>\n",
       "      <td>45.0</td>\n",
       "      <td>Male</td>\n",
       "      <td>PhD</td>\n",
       "      <td>Senior Manager</td>\n",
       "      <td>15.0</td>\n",
       "      <td>150000.0</td>\n",
       "    </tr>\n",
       "    <tr>\n",
       "      <th>3</th>\n",
       "      <td>36.0</td>\n",
       "      <td>Female</td>\n",
       "      <td>Bachelor's</td>\n",
       "      <td>Sales Associate</td>\n",
       "      <td>7.0</td>\n",
       "      <td>60000.0</td>\n",
       "    </tr>\n",
       "    <tr>\n",
       "      <th>4</th>\n",
       "      <td>52.0</td>\n",
       "      <td>Male</td>\n",
       "      <td>Master's</td>\n",
       "      <td>Director</td>\n",
       "      <td>20.0</td>\n",
       "      <td>200000.0</td>\n",
       "    </tr>\n",
       "  </tbody>\n",
       "</table>\n",
       "</div>"
      ],
      "text/plain": [
       "    Age  Gender Education Level          Job Title  Years of Experience  \\\n",
       "0  32.0    Male      Bachelor's  Software Engineer                  5.0   \n",
       "1  28.0  Female        Master's       Data Analyst                  3.0   \n",
       "2  45.0    Male             PhD     Senior Manager                 15.0   \n",
       "3  36.0  Female      Bachelor's    Sales Associate                  7.0   \n",
       "4  52.0    Male        Master's           Director                 20.0   \n",
       "\n",
       "     Salary  \n",
       "0   90000.0  \n",
       "1   65000.0  \n",
       "2  150000.0  \n",
       "3   60000.0  \n",
       "4  200000.0  "
      ]
     },
     "execution_count": 18,
     "metadata": {},
     "output_type": "execute_result"
    }
   ],
   "source": [
    "df = pd.read_csv('data/Salary Data.csv')\n",
    "\n",
    "df.head()"
   ]
  },
  {
   "cell_type": "code",
   "execution_count": 19,
   "id": "6eaf9ac3",
   "metadata": {},
   "outputs": [
    {
     "data": {
      "text/plain": [
       "Index(['Age', 'Gender', 'Education Level', 'Job Title', 'Years of Experience',\n",
       "       'Salary'],\n",
       "      dtype='object')"
      ]
     },
     "execution_count": 19,
     "metadata": {},
     "output_type": "execute_result"
    }
   ],
   "source": [
    "df.columns"
   ]
  },
  {
   "cell_type": "markdown",
   "id": "fa47b0a2",
   "metadata": {},
   "source": [
    "### Pre-processing"
   ]
  },
  {
   "cell_type": "markdown",
   "id": "213cae30",
   "metadata": {},
   "source": [
    "Drop nan values"
   ]
  },
  {
   "cell_type": "code",
   "execution_count": 20,
   "id": "5cde1b51",
   "metadata": {},
   "outputs": [
    {
     "data": {
      "text/plain": [
       "Age                    2\n",
       "Gender                 2\n",
       "Education Level        2\n",
       "Job Title              2\n",
       "Years of Experience    2\n",
       "Salary                 2\n",
       "dtype: int64"
      ]
     },
     "execution_count": 20,
     "metadata": {},
     "output_type": "execute_result"
    }
   ],
   "source": [
    "df.isna().sum()"
   ]
  },
  {
   "cell_type": "code",
   "execution_count": 21,
   "id": "690f0a46",
   "metadata": {},
   "outputs": [],
   "source": [
    "df.dropna(inplace=True)"
   ]
  },
  {
   "cell_type": "code",
   "execution_count": 22,
   "id": "928f009f",
   "metadata": {},
   "outputs": [
    {
     "data": {
      "text/plain": [
       "Age                    0\n",
       "Gender                 0\n",
       "Education Level        0\n",
       "Job Title              0\n",
       "Years of Experience    0\n",
       "Salary                 0\n",
       "dtype: int64"
      ]
     },
     "execution_count": 22,
     "metadata": {},
     "output_type": "execute_result"
    }
   ],
   "source": [
    "# check\n",
    "df.isna().sum()"
   ]
  },
  {
   "cell_type": "markdown",
   "id": "7f33897a",
   "metadata": {},
   "source": [
    "Separate into features and label"
   ]
  },
  {
   "cell_type": "code",
   "execution_count": 23,
   "id": "e14d5853",
   "metadata": {},
   "outputs": [
    {
     "data": {
      "text/plain": [
       "(pandas.core.frame.DataFrame, pandas.core.series.Series)"
      ]
     },
     "execution_count": 23,
     "metadata": {},
     "output_type": "execute_result"
    }
   ],
   "source": [
    "# Extract features (input variables)\n",
    "X = df.drop('Salary', axis=1)  # Exclude the column representing the target variable\n",
    "\n",
    "# Extract label (target variable)\n",
    "y = df['Salary']  # Select the column representing the target variable\n",
    "\n",
    "type(X), type(y)"
   ]
  },
  {
   "cell_type": "markdown",
   "id": "e00badd8",
   "metadata": {},
   "source": [
    "We are going to:\n",
    "\n",
    "- Normalize numerical columns\n",
    "- One-hot encoding categorical values "
   ]
  },
  {
   "cell_type": "code",
   "execution_count": 24,
   "id": "5a419ab2",
   "metadata": {},
   "outputs": [],
   "source": [
    "# numerical variables\n",
    "features_num = [\n",
    "    \"Age\",\"Years of Experience\",\n",
    "]\n",
    "\n",
    "# categorical variables\n",
    "features_cat = [\n",
    "    \"Gender\",\"Education Level\",\"Job Title\"\n",
    "]"
   ]
  },
  {
   "cell_type": "code",
   "execution_count": 29,
   "id": "12ac2056",
   "metadata": {},
   "outputs": [],
   "source": [
    "# for numerical variables\n",
    "transformer_num = make_pipeline(\n",
    "    SimpleImputer(strategy=\"constant\"), # there are a few missing values\n",
    "    StandardScaler(),\n",
    ")\n",
    "\n",
    "\n",
    "# for categorical variables\n",
    "transformer_cat = make_pipeline(\n",
    "    SimpleImputer(strategy=\"constant\", fill_value=\"NA\"),\n",
    "    OneHotEncoder(handle_unknown='ignore',sparse=False), # sparse it's fundamental!! if we do not use it\n",
    "    # we're gonna have type problems later with tensorflow\n",
    ")\n",
    "\n",
    "# preprocessor\n",
    "preprocessor = make_column_transformer(\n",
    "    (transformer_num, features_num),\n",
    "    (transformer_cat, features_cat),\n",
    ")"
   ]
  },
  {
   "cell_type": "code",
   "execution_count": 30,
   "id": "5b75c2e4",
   "metadata": {},
   "outputs": [
    {
     "data": {
      "text/plain": [
       "(numpy.ndarray, pandas.core.series.Series, [154], (279, 154))"
      ]
     },
     "execution_count": 30,
     "metadata": {},
     "output_type": "execute_result"
    }
   ],
   "source": [
    "# train/test split\n",
    "X_train, X_test, y_train, y_test = train_test_split(X, y,  train_size=0.75)\n",
    "\n",
    "X_train = preprocessor.fit_transform(X_train) # fit and transform\n",
    "X_test = preprocessor.transform(X_test) # only transform\n",
    "\n",
    "input_shape = [X_train.shape[1]]\n",
    "\n",
    "\n",
    "type(X_train), type(y_train), input_shape, X_train.shape"
   ]
  },
  {
   "cell_type": "markdown",
   "id": "1fd9ce20",
   "metadata": {},
   "source": [
    "<a name=\"4\"></a>\n",
    "## <b> <font color='#21618C'> 4. Build, compile and train our model </font> </color>"
   ]
  },
  {
   "cell_type": "code",
   "execution_count": 86,
   "id": "989f571d",
   "metadata": {},
   "outputs": [],
   "source": [
    "def build_model(input_shape):\n",
    "    model = tf.keras.Sequential([\n",
    "        tf.keras.layers.Dense(128,input_shape=input_shape),\n",
    "        tf.keras.layers.Dense(128),\n",
    "        tf.keras.layers.Dense(128),\n",
    "        tf.keras.layers.Dense(64),\n",
    "        layers.Dense(1)\n",
    "    ])\n",
    "\n",
    "    optimizer = tf.keras.optimizers.RMSprop(0.001)\n",
    "\n",
    "    model.compile(loss='mse',\n",
    "                optimizer=optimizer,\n",
    "                metrics=['mae', 'mse'])\n",
    "    return model"
   ]
  },
  {
   "cell_type": "code",
   "execution_count": 87,
   "id": "67a58fb3",
   "metadata": {},
   "outputs": [
    {
     "name": "stdout",
     "output_type": "stream",
     "text": [
      "Model: \"sequential_11\"\n",
      "_________________________________________________________________\n",
      " Layer (type)                Output Shape              Param #   \n",
      "=================================================================\n",
      " dense_54 (Dense)            (None, 128)               19840     \n",
      "                                                                 \n",
      " dense_55 (Dense)            (None, 128)               16512     \n",
      "                                                                 \n",
      " dense_56 (Dense)            (None, 128)               16512     \n",
      "                                                                 \n",
      " dense_57 (Dense)            (None, 64)                8256      \n",
      "                                                                 \n",
      " dense_58 (Dense)            (None, 1)                 65        \n",
      "                                                                 \n",
      "=================================================================\n",
      "Total params: 61185 (239.00 KB)\n",
      "Trainable params: 61185 (239.00 KB)\n",
      "Non-trainable params: 0 (0.00 Byte)\n",
      "_________________________________________________________________\n"
     ]
    }
   ],
   "source": [
    "model = build_model(input_shape)\n",
    "\n",
    "model.summary()"
   ]
  },
  {
   "cell_type": "code",
   "execution_count": 88,
   "id": "c48edb22",
   "metadata": {},
   "outputs": [
    {
     "name": "stdout",
     "output_type": "stream",
     "text": [
      "Epoch 89: early stopping\n"
     ]
    }
   ],
   "source": [
    "# Early Stopping Callback\n",
    "callbacks = EarlyStopping(monitor='val_loss', mode='min', verbose=1, patience=50)\n",
    "\n",
    "history = model.fit(\n",
    "        X_train,y_train,\n",
    "        validation_split=0.2,\n",
    "        epochs=100,\n",
    "        verbose=0,\n",
    "        callbacks=callbacks,\n",
    ")"
   ]
  },
  {
   "cell_type": "markdown",
   "id": "bba6a5ec",
   "metadata": {},
   "source": [
    "<a name=\"5\"></a>\n",
    "## <b> <font color='#21618C'> 5. Model Evaluation </font> </color>"
   ]
  },
  {
   "cell_type": "code",
   "execution_count": 89,
   "id": "285d057e",
   "metadata": {},
   "outputs": [
    {
     "name": "stdout",
     "output_type": "stream",
     "text": [
      "3/3 [==============================] - 0s 3ms/step - loss: 294455936.0000 - mae: 11093.3174 - mse: 294455936.0000\n"
     ]
    },
    {
     "data": {
      "text/plain": [
       "[294455936.0, 11093.3173828125, 294455936.0]"
      ]
     },
     "execution_count": 89,
     "metadata": {},
     "output_type": "execute_result"
    }
   ],
   "source": [
    "model.evaluate(X_test,y_test)"
   ]
  },
  {
   "cell_type": "code",
   "execution_count": 90,
   "id": "7b29feee",
   "metadata": {},
   "outputs": [
    {
     "data": {
      "image/png": "[encoded data removed]",
      "text/plain": [
       "<Figure size 1200x600 with 2 Axes>"
      ]
     },
     "metadata": {},
     "output_type": "display_data"
    }
   ],
   "source": [
    "plot_history(history)"
   ]
  },
  {
   "cell_type": "markdown",
   "id": "9cee963f",
   "metadata": {},
   "source": [
    "<a name=\"4\"></a>\n",
    "## <b> <font color='#21618C'> 4. Making predictions </font> </color>"
   ]
  },
  {
   "cell_type": "code",
   "execution_count": 68,
   "id": "13c99c56",
   "metadata": {},
   "outputs": [
    {
     "name": "stdout",
     "output_type": "stream",
     "text": [
      "1/1 [==============================] - 0s 67ms/step\n"
     ]
    },
    {
     "data": {
      "text/plain": [
       "array([[50499.477]], dtype=float32)"
      ]
     },
     "execution_count": 68,
     "metadata": {},
     "output_type": "execute_result"
    }
   ],
   "source": [
    "# data\n",
    "data = {\n",
    "    \"Years of Experience\": [3.0],\n",
    "    \"Gender\": [\"Male\"],\n",
    "    \"Education Level\": [\"PhD\"],\n",
    "    \"Job Title\": [\"Data Analyst\"],\n",
    "    \"Age\": [32.0]\n",
    "}\n",
    "\n",
    "# Create the DataFrame\n",
    "df = pd.DataFrame(data)\n",
    "\n",
    "# apply transformations\n",
    "input_transformed = preprocessor.transform(df)\n",
    "\n",
    "# prediction\n",
    "prediction = model.predict(input_transformed)\n",
    "prediction\n"
   ]
  },
  {
   "cell_type": "code",
   "execution_count": null,
   "id": "99d55b11",
   "metadata": {},
   "outputs": [],
   "source": []
  }
 ],
 "metadata": {
  "kernelspec": {
   "display_name": "Python 3 (ipykernel)",
   "language": "python",
   "name": "python3"
  },
  "language_info": {
   "codemirror_mode": {
    "name": "ipython",
    "version": 3
   },
   "file_extension": ".py",
   "mimetype": "text/x-python",
   "name": "python",
   "nbconvert_exporter": "python",
   "pygments_lexer": "ipython3",
   "version": "3.10.12"
  }
 },
 "nbformat": 4,
 "nbformat_minor": 5
}
