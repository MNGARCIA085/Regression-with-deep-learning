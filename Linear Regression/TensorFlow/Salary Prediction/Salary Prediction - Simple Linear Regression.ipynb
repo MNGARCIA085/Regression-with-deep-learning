{
 "cells": [
  {
   "cell_type": "markdown",
   "id": "4bba6917",
   "metadata": {},
   "source": [
    "# <b> <center> <font color='blue'> SALARY PREDICTION </font> </color> </b>"
   ]
  },
  {
   "cell_type": "markdown",
   "id": "d2ad6a64",
   "metadata": {},
   "source": [
    "## Table of Contents\n",
    "\n",
    "1. [Problem Statement](#1)\n",
    "2. [Modules](#2)\n",
    "3. [Helper Functions](#3)\n",
    "4. [Data Loading, Exploration and Pre-processing](#4)\n",
    "5. [Baseline model](#5)\n",
    "6. [Build, compile and train the model](#5)\n",
    "7. [Making predictions](#7)\n"
   ]
  },
  {
   "cell_type": "markdown",
   "id": "e14c1699",
   "metadata": {},
   "source": [
    "<a name=\"1\"></a>\n",
    "## <b> <font color='#21618C'> 1. Problem Statement </font> </color>\n",
    "\n",
    "We are going to predict the salary using only the feature \"years of experience\""
   ]
  },
  {
   "cell_type": "markdown",
   "id": "6e18d2ac",
   "metadata": {},
   "source": [
    "<a name=\"2\"></a>\n",
    "## <b> <font color='#21618C'> 2. Modules </font> </color>"
   ]
  },
  {
   "cell_type": "code",
   "execution_count": 5,
   "id": "ca9cb380",
   "metadata": {},
   "outputs": [],
   "source": [
    "import os\n",
    "os.environ['TF_CPP_MIN_LOG_LEVEL'] = '2' \n",
    "\n",
    "import warnings\n",
    "warnings.filterwarnings('ignore')"
   ]
  },
  {
   "cell_type": "code",
   "execution_count": 34,
   "id": "67a11a40",
   "metadata": {},
   "outputs": [],
   "source": [
    "import matplotlib.pyplot as plt\n",
    "import numpy as np\n",
    "import pandas as pd\n",
    "import seaborn as sns\n",
    "import tensorflow as tf\n",
    "\n",
    "from sklearn.model_selection import train_test_split\n",
    "from sklearn.preprocessing import StandardScaler\n",
    "from tensorflow.keras import layers\n",
    "from tensorflow.keras.callbacks import EarlyStopping\n",
    "\n",
    "from sklearn.compose import make_column_transformer\n",
    "from sklearn.preprocessing import MinMaxScaler, OneHotEncoder\n",
    "\n",
    "from sklearn.linear_model import LinearRegression\n",
    "from sklearn.metrics import mean_absolute_error, mean_squared_error"
   ]
  },
  {
   "cell_type": "markdown",
   "id": "d105068a",
   "metadata": {},
   "source": [
    "<a name=\"3\"></a>\n",
    "## <b> <font color='#21618C'> 3. Helper Functions </font> </color>"
   ]
  },
  {
   "cell_type": "code",
   "execution_count": 45,
   "id": "05d91e6d",
   "metadata": {},
   "outputs": [],
   "source": [
    "# plotting utilities\n",
    "\n",
    "def plot_history(history):\n",
    "    hist = pd.DataFrame(history.history)\n",
    "    hist['epoch'] = history.epoch\n",
    "\n",
    "    # Create a figure with two subplots side by side\n",
    "    fig, axs = plt.subplots(1, 2, figsize=(12, 6))  # 1 row, 2 columns\n",
    "\n",
    "    axs[0].set_title('MAE',fontsize=14, fontweight='bold',color='red')\n",
    "    axs[0].set_xlabel('Epoch')\n",
    "    axs[0].set_ylabel('Mean Abs Error [MPG]')\n",
    "    axs[0].plot(hist['epoch'], hist['mae'],\n",
    "           label='Train Error')\n",
    "    axs[0].plot(hist['epoch'], hist['val_mae'],\n",
    "           label = 'Val Error')\n",
    "    axs[0].legend()\n",
    "\n",
    "\n",
    "    axs[1].set_title('MSE',fontsize=14, fontweight='bold',color='orange')\n",
    "    axs[1].set_xlabel('Epoch')\n",
    "    axs[1].set_ylabel('Mean Square Error [$MPG^2$]')\n",
    "    axs[1].plot(hist['epoch'], hist['mse'],\n",
    "           label='Train Error')\n",
    "    axs[1].plot(hist['epoch'], hist['val_mse'],\n",
    "           label = 'Val Error')\n",
    "    axs[1].legend()\n"
   ]
  },
  {
   "cell_type": "markdown",
   "id": "14522d15",
   "metadata": {},
   "source": [
    "<a name=\"4\"></a>\n",
    "## <b> <font color='#21618C'> 4. Data Loading, Exploration and Pre-processing </font> </color>\n",
    "\n",
    "### Loading data"
   ]
  },
  {
   "cell_type": "code",
   "execution_count": 9,
   "id": "9009908d",
   "metadata": {},
   "outputs": [
    {
     "name": "stdout",
     "output_type": "stream",
     "text": [
      "'Salary Data.csv'\r\n"
     ]
    }
   ],
   "source": [
    "!ls data"
   ]
  },
  {
   "cell_type": "code",
   "execution_count": 10,
   "id": "956f91ba",
   "metadata": {},
   "outputs": [
    {
     "data": {
      "text/html": [
       "<div>\n",
       "<style scoped>\n",
       "    .dataframe tbody tr th:only-of-type {\n",
       "        vertical-align: middle;\n",
       "    }\n",
       "\n",
       "    .dataframe tbody tr th {\n",
       "        vertical-align: top;\n",
       "    }\n",
       "\n",
       "    .dataframe thead th {\n",
       "        text-align: right;\n",
       "    }\n",
       "</style>\n",
       "<table border=\"1\" class=\"dataframe\">\n",
       "  <thead>\n",
       "    <tr style=\"text-align: right;\">\n",
       "      <th></th>\n",
       "      <th>Age</th>\n",
       "      <th>Gender</th>\n",
       "      <th>Education Level</th>\n",
       "      <th>Job Title</th>\n",
       "      <th>Years of Experience</th>\n",
       "      <th>Salary</th>\n",
       "    </tr>\n",
       "  </thead>\n",
       "  <tbody>\n",
       "    <tr>\n",
       "      <th>0</th>\n",
       "      <td>32.0</td>\n",
       "      <td>Male</td>\n",
       "      <td>Bachelor's</td>\n",
       "      <td>Software Engineer</td>\n",
       "      <td>5.0</td>\n",
       "      <td>90000.0</td>\n",
       "    </tr>\n",
       "    <tr>\n",
       "      <th>1</th>\n",
       "      <td>28.0</td>\n",
       "      <td>Female</td>\n",
       "      <td>Master's</td>\n",
       "      <td>Data Analyst</td>\n",
       "      <td>3.0</td>\n",
       "      <td>65000.0</td>\n",
       "    </tr>\n",
       "    <tr>\n",
       "      <th>2</th>\n",
       "      <td>45.0</td>\n",
       "      <td>Male</td>\n",
       "      <td>PhD</td>\n",
       "      <td>Senior Manager</td>\n",
       "      <td>15.0</td>\n",
       "      <td>150000.0</td>\n",
       "    </tr>\n",
       "    <tr>\n",
       "      <th>3</th>\n",
       "      <td>36.0</td>\n",
       "      <td>Female</td>\n",
       "      <td>Bachelor's</td>\n",
       "      <td>Sales Associate</td>\n",
       "      <td>7.0</td>\n",
       "      <td>60000.0</td>\n",
       "    </tr>\n",
       "    <tr>\n",
       "      <th>4</th>\n",
       "      <td>52.0</td>\n",
       "      <td>Male</td>\n",
       "      <td>Master's</td>\n",
       "      <td>Director</td>\n",
       "      <td>20.0</td>\n",
       "      <td>200000.0</td>\n",
       "    </tr>\n",
       "  </tbody>\n",
       "</table>\n",
       "</div>"
      ],
      "text/plain": [
       "    Age  Gender Education Level          Job Title  Years of Experience  \\\n",
       "0  32.0    Male      Bachelor's  Software Engineer                  5.0   \n",
       "1  28.0  Female        Master's       Data Analyst                  3.0   \n",
       "2  45.0    Male             PhD     Senior Manager                 15.0   \n",
       "3  36.0  Female      Bachelor's    Sales Associate                  7.0   \n",
       "4  52.0    Male        Master's           Director                 20.0   \n",
       "\n",
       "     Salary  \n",
       "0   90000.0  \n",
       "1   65000.0  \n",
       "2  150000.0  \n",
       "3   60000.0  \n",
       "4  200000.0  "
      ]
     },
     "execution_count": 10,
     "metadata": {},
     "output_type": "execute_result"
    }
   ],
   "source": [
    "df = pd.read_csv('data/Salary Data.csv')\n",
    "\n",
    "df.head()"
   ]
  },
  {
   "cell_type": "markdown",
   "id": "f7606ad3",
   "metadata": {},
   "source": [
    "### Exploring and pre-processing"
   ]
  },
  {
   "cell_type": "code",
   "execution_count": 15,
   "id": "04be16af",
   "metadata": {},
   "outputs": [
    {
     "data": {
      "text/plain": [
       "(375, 6)"
      ]
     },
     "execution_count": 15,
     "metadata": {},
     "output_type": "execute_result"
    }
   ],
   "source": [
    "df.shape"
   ]
  },
  {
   "cell_type": "code",
   "execution_count": 16,
   "id": "e062751f",
   "metadata": {},
   "outputs": [
    {
     "data": {
      "text/plain": [
       "Index(['Age', 'Gender', 'Education Level', 'Job Title', 'Years of Experience',\n",
       "       'Salary'],\n",
       "      dtype='object')"
      ]
     },
     "execution_count": 16,
     "metadata": {},
     "output_type": "execute_result"
    }
   ],
   "source": [
    "df.columns"
   ]
  },
  {
   "cell_type": "markdown",
   "id": "b67023f0",
   "metadata": {},
   "source": [
    "Eliminte Nan Values"
   ]
  },
  {
   "cell_type": "code",
   "execution_count": 18,
   "id": "de4e1e7e",
   "metadata": {},
   "outputs": [
    {
     "name": "stdout",
     "output_type": "stream",
     "text": [
      "12\n",
      "12\n"
     ]
    }
   ],
   "source": [
    "total_nan_values = df.isnull().sum().sum()\n",
    "print(total_nan_values)\n",
    "\n",
    "total_nan_values = df.isna().sum().sum()\n",
    "print(total_nan_values)"
   ]
  },
  {
   "cell_type": "code",
   "execution_count": 19,
   "id": "2e7538ef",
   "metadata": {},
   "outputs": [],
   "source": [
    "df.dropna(inplace=True)"
   ]
  },
  {
   "cell_type": "markdown",
   "id": "8d0069df",
   "metadata": {},
   "source": [
    "ckeck"
   ]
  },
  {
   "cell_type": "code",
   "execution_count": 23,
   "id": "2d3e4212",
   "metadata": {},
   "outputs": [
    {
     "name": "stdout",
     "output_type": "stream",
     "text": [
      "0\n",
      "0\n"
     ]
    }
   ],
   "source": [
    "total_nan_values = df.isnull().sum().sum()\n",
    "print(total_nan_values)\n",
    "\n",
    "total_nan_values = df.isna().sum().sum()\n",
    "print(total_nan_values)"
   ]
  },
  {
   "cell_type": "markdown",
   "id": "6c6ca5ec",
   "metadata": {},
   "source": [
    "The feature will be \"Years of Experience\", and label \"Salary\"."
   ]
  },
  {
   "cell_type": "code",
   "execution_count": 24,
   "id": "35b1781b",
   "metadata": {},
   "outputs": [
    {
     "data": {
      "text/plain": [
       "(pandas.core.frame.DataFrame, pandas.core.series.Series)"
      ]
     },
     "execution_count": 24,
     "metadata": {},
     "output_type": "execute_result"
    }
   ],
   "source": [
    "X = df[['Years of Experience']].copy()\n",
    "y = df['Salary']\n",
    "\n",
    "type(X), type(y)"
   ]
  },
  {
   "cell_type": "code",
   "execution_count": 25,
   "id": "10d28136",
   "metadata": {},
   "outputs": [
    {
     "data": {
      "text/plain": [
       "<matplotlib.collections.PathCollection at 0x7f4f80272230>"
      ]
     },
     "execution_count": 25,
     "metadata": {},
     "output_type": "execute_result"
    },
    {
     "data": {
      "image/png": "[encoded data removed]",
      "text/plain": [
       "<Figure size 640x480 with 1 Axes>"
      ]
     },
     "metadata": {},
     "output_type": "display_data"
    }
   ],
   "source": [
    "plt.scatter(X,y)"
   ]
  },
  {
   "cell_type": "markdown",
   "id": "19610548",
   "metadata": {},
   "source": [
    "We can see a linear relation.\n",
    "\n",
    "<b> Train/test split </b>"
   ]
  },
  {
   "cell_type": "code",
   "execution_count": 27,
   "id": "9fe884bf",
   "metadata": {},
   "outputs": [],
   "source": [
    "# train/test split\n",
    "X_train, X_test, y_train, y_test = train_test_split(X, y, test_size=0.2, random_state=42)"
   ]
  },
  {
   "cell_type": "markdown",
   "id": "acdd22da",
   "metadata": {},
   "source": [
    "Let's do some more pre-processing:\n",
    "\n",
    "We're gonna normalize our input data X.\n",
    "\n",
    "We're going to use ScikitLearn's MinMaxScaler(), which normalizes the data by scaling the features to a specified range, typically between 0 and 1, based on the minimum and maximum values present in the data."
   ]
  },
  {
   "cell_type": "code",
   "execution_count": 30,
   "id": "c2b81c24",
   "metadata": {},
   "outputs": [],
   "source": [
    "# Create column transformer to apply transformations to specific columns\n",
    "ct = make_column_transformer(\n",
    "    (MinMaxScaler(), [\"Years of Experience\"]),  # Normalize \"Years of Experience\" column\n",
    "    remainder='passthrough'  # Pass through columns not specified for transformation\n",
    ")\n",
    "\n",
    "# Fit column transformer on the training data only (doing so on test data would result in data leakage)\n",
    "ct.fit(X_train)\n",
    "\n",
    "# Transform training and test data with normalization (MinMaxScaler) and pass through the rest\n",
    "X_train_transformed = ct.transform(X_train)\n",
    "X_test_transformed = ct.transform(X_test)"
   ]
  },
  {
   "cell_type": "markdown",
   "id": "a36acc22",
   "metadata": {},
   "source": [
    "<b>Note.</b> When you fit the transformer using X_train, you are essentially learning the parameters of the transformation based on the training data. This ensures that the transformation is applied consistently to both the training and testing data.\n",
    "\n",
    "Fitting the transformer on the training data helps prevent data leakage, which can occur when information from the testing set inadvertently influences the model training process. It ensures that the preprocessing steps are learned solely from the training data, which reflects the real-world scenario where the model will be deployed on unseen data."
   ]
  },
  {
   "cell_type": "code",
   "execution_count": 32,
   "id": "670c3e2c",
   "metadata": {},
   "outputs": [
    {
     "data": {
      "text/plain": [
       "((298, 1), (298,))"
      ]
     },
     "execution_count": 32,
     "metadata": {},
     "output_type": "execute_result"
    }
   ],
   "source": [
    "X_train_transformed.shape, y_train.shape"
   ]
  },
  {
   "cell_type": "markdown",
   "id": "c5920f2c",
   "metadata": {},
   "source": [
    "<a name=\"5\"></a>\n",
    "## <b> <font color='#21618C'> 5. Baseline Model </font> </color>\n",
    "\n",
    "\n",
    "We are going to use the linear regression estimator of Scikit Learn."
   ]
  },
  {
   "cell_type": "code",
   "execution_count": 37,
   "id": "392a99c1",
   "metadata": {},
   "outputs": [],
   "source": [
    "# Create a linear regression model\n",
    "baseline_model = LinearRegression()\n",
    "\n",
    "# Fit the model on the training data\n",
    "baseline_model.fit(X_train_transformed, y_train)\n",
    "\n",
    "# Make predictions on the testing data\n",
    "y_pred = baseline_model.predict(X_test_transformed)\n",
    "\n",
    "# Calculate Mean Absolute Error (MAE)\n",
    "baseline_mae = mean_absolute_error(y_test, y_pred)\n",
    "\n",
    "# Calculate Mean Squared Error (MSE)\n",
    "baseline_mse = mean_squared_error(y_test, y_pred)"
   ]
  },
  {
   "cell_type": "code",
   "execution_count": 38,
   "id": "8b7f7ded",
   "metadata": {},
   "outputs": [
    {
     "data": {
      "text/plain": [
       "(12094.170341194764, 241834883.8999349)"
      ]
     },
     "execution_count": 38,
     "metadata": {},
     "output_type": "execute_result"
    }
   ],
   "source": [
    "baseline_mae, baseline_mse"
   ]
  },
  {
   "cell_type": "markdown",
   "id": "e4a653b2",
   "metadata": {},
   "source": [
    "<a name=\"6\"></a>\n",
    "## <b> <font color='#21618C'> 6. Build, compile and train model </font> </color>"
   ]
  },
  {
   "cell_type": "code",
   "execution_count": 52,
   "id": "d2aaf06c",
   "metadata": {},
   "outputs": [],
   "source": [
    "def build_model(input_shape):\n",
    "    model = tf.keras.Sequential([\n",
    "        layers.Dense(128,input_shape=[input_shape]),\n",
    "        layers.Dense(128),\n",
    "        layers.Dense(128),\n",
    "        tf.keras.layers.Dense(64),\n",
    "        layers.Dense(1)\n",
    "    ])\n",
    "\n",
    "    optimizer = tf.keras.optimizers.RMSprop(0.001)\n",
    "\n",
    "    model.compile(loss='mse',\n",
    "                optimizer=optimizer,\n",
    "                metrics=['mae', 'mse'])\n",
    "    return model"
   ]
  },
  {
   "cell_type": "code",
   "execution_count": 53,
   "id": "ca8f8f21",
   "metadata": {},
   "outputs": [
    {
     "name": "stdout",
     "output_type": "stream",
     "text": [
      "Model: \"sequential_2\"\n",
      "_________________________________________________________________\n",
      " Layer (type)                Output Shape              Param #   \n",
      "=================================================================\n",
      " dense_10 (Dense)            (None, 128)               256       \n",
      "                                                                 \n",
      " dense_11 (Dense)            (None, 128)               16512     \n",
      "                                                                 \n",
      " dense_12 (Dense)            (None, 128)               16512     \n",
      "                                                                 \n",
      " dense_13 (Dense)            (None, 64)                8256      \n",
      "                                                                 \n",
      " dense_14 (Dense)            (None, 1)                 65        \n",
      "                                                                 \n",
      "=================================================================\n",
      "Total params: 41601 (162.50 KB)\n",
      "Trainable params: 41601 (162.50 KB)\n",
      "Non-trainable params: 0 (0.00 Byte)\n",
      "_________________________________________________________________\n"
     ]
    }
   ],
   "source": [
    "model = build_model(X_train_transformed.shape[1])\n",
    "\n",
    "model.summary()"
   ]
  },
  {
   "cell_type": "markdown",
   "id": "78fc7117",
   "metadata": {},
   "source": [
    "We are going to configure validation_split, which indicates the fraction of data to be used as the validation set. In this case, 20% of the data will be used as the validation set, and the remaining 80% will be used as the training set."
   ]
  },
  {
   "cell_type": "code",
   "execution_count": 54,
   "id": "89284035",
   "metadata": {},
   "outputs": [],
   "source": [
    "history = model.fit(\n",
    "        X_train_transformed,y_train,\n",
    "        validation_split=0.2,\n",
    "        epochs=100,\n",
    "        verbose=0\n",
    ")"
   ]
  },
  {
   "cell_type": "code",
   "execution_count": 55,
   "id": "538b3f6c",
   "metadata": {},
   "outputs": [
    {
     "name": "stdout",
     "output_type": "stream",
     "text": [
      "3/3 [==============================] - 0s 3ms/step - loss: 234944928.0000 - mae: 11620.0791 - mse: 234944928.0000\n"
     ]
    }
   ],
   "source": [
    "scores = model.evaluate(X_test_transformed, y_test)"
   ]
  },
  {
   "cell_type": "markdown",
   "id": "0983d830",
   "metadata": {},
   "source": [
    "We have already surpassed the logistic regression estimator from scikit-learn!"
   ]
  },
  {
   "cell_type": "code",
   "execution_count": 58,
   "id": "c1838872",
   "metadata": {},
   "outputs": [
    {
     "data": {
      "image/png": "[encoded data removed]",
      "text/plain": [
       "<Figure size 1200x600 with 2 Axes>"
      ]
     },
     "metadata": {},
     "output_type": "display_data"
    }
   ],
   "source": [
    "plot_history(history)"
   ]
  },
  {
   "cell_type": "markdown",
   "id": "0b43ed9c",
   "metadata": {},
   "source": [
    "<a name=\"7\"></a>\n",
    "## <b> <font color='#21618C'> 7. Making predictions </font> </color>"
   ]
  },
  {
   "cell_type": "code",
   "execution_count": 63,
   "id": "83028e6b",
   "metadata": {},
   "outputs": [
    {
     "name": "stdout",
     "output_type": "stream",
     "text": [
      "1/1 [==============================] - 0s 14ms/step\n"
     ]
    }
   ],
   "source": [
    "# example of data\n",
    "data = {\n",
    "    \"Years of Experience\": [5.0, 3.0, 15.0]\n",
    "}\n",
    "\n",
    "# Create a pandas DataFrame\n",
    "df = pd.DataFrame(data)\n",
    "\n",
    "# we applied the same preprocessing as the data used to train the model.\n",
    "input_transformed = ct.transform(df)\n",
    "\n",
    "\n",
    "# Make predictions using the normalized input\n",
    "predictions = model.predict(input_transformed)"
   ]
  },
  {
   "cell_type": "code",
   "execution_count": 64,
   "id": "8a1fe3ae",
   "metadata": {},
   "outputs": [
    {
     "data": {
      "text/plain": [
       "array([[ 66006.96 ],\n",
       "       [ 51913.477],\n",
       "       [136474.38 ]], dtype=float32)"
      ]
     },
     "execution_count": 64,
     "metadata": {},
     "output_type": "execute_result"
    }
   ],
   "source": [
    "predictions"
   ]
  },
  {
   "cell_type": "code",
   "execution_count": null,
   "id": "f8e7330b",
   "metadata": {},
   "outputs": [],
   "source": []
  }
 ],
 "metadata": {
  "kernelspec": {
   "display_name": "Python 3 (ipykernel)",
   "language": "python",
   "name": "python3"
  },
  "language_info": {
   "codemirror_mode": {
    "name": "ipython",
    "version": 3
   },
   "file_extension": ".py",
   "mimetype": "text/x-python",
   "name": "python",
   "nbconvert_exporter": "python",
   "pygments_lexer": "ipython3",
   "version": "3.10.12"
  }
 },
 "nbformat": 4,
 "nbformat_minor": 5
}
