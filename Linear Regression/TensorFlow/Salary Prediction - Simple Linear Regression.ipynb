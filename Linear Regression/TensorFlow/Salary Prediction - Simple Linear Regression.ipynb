{
 "cells": [
  {
   "cell_type": "markdown",
   "id": "bf922a75",
   "metadata": {},
   "source": [
    "# <center> <font color='blue'> <b> LINEAR REGRESSION </b> </font> </center>"
   ]
  },
  {
   "cell_type": "markdown",
   "id": "4ad88778",
   "metadata": {},
   "source": [
    "TABLE OF CONTENT\n",
    "\n",
    "...."
   ]
  },
  {
   "cell_type": "markdown",
   "id": "300814a1",
   "metadata": {},
   "source": [
    "## 1. Libraries"
   ]
  },
  {
   "cell_type": "code",
   "execution_count": 37,
   "id": "976ad129",
   "metadata": {},
   "outputs": [],
   "source": [
    "import os\n",
    "os.environ['TF_CPP_MIN_LOG_LEVEL'] = '2' \n",
    "\n",
    "import warnings\n",
    "warnings.filterwarnings('ignore')"
   ]
  },
  {
   "cell_type": "code",
   "execution_count": 38,
   "id": "140e1ce5",
   "metadata": {},
   "outputs": [],
   "source": [
    "import pandas as pd\n",
    "import matplotlib.pyplot as plt\n",
    "from sklearn.compose import make_column_transformer\n",
    "from sklearn.preprocessing import MinMaxScaler, OneHotEncoder\n",
    "from sklearn.model_selection import train_test_split\n",
    "import tensorflow as tf\n",
    "\n",
    "from tensorflow import keras\n",
    "from tensorflow.keras import layers"
   ]
  },
  {
   "cell_type": "markdown",
   "id": "75b44833",
   "metadata": {},
   "source": [
    "# Load data"
   ]
  },
  {
   "cell_type": "code",
   "execution_count": 7,
   "id": "7b860075",
   "metadata": {},
   "outputs": [
    {
     "name": "stdout",
     "output_type": "stream",
     "text": [
      "'Salary Data.csv'\r\n"
     ]
    }
   ],
   "source": [
    "!ls data"
   ]
  },
  {
   "cell_type": "code",
   "execution_count": 69,
   "id": "a8ef84ec",
   "metadata": {},
   "outputs": [
    {
     "data": {
      "text/html": [
       "<div>\n",
       "<style scoped>\n",
       "    .dataframe tbody tr th:only-of-type {\n",
       "        vertical-align: middle;\n",
       "    }\n",
       "\n",
       "    .dataframe tbody tr th {\n",
       "        vertical-align: top;\n",
       "    }\n",
       "\n",
       "    .dataframe thead th {\n",
       "        text-align: right;\n",
       "    }\n",
       "</style>\n",
       "<table border=\"1\" class=\"dataframe\">\n",
       "  <thead>\n",
       "    <tr style=\"text-align: right;\">\n",
       "      <th></th>\n",
       "      <th>Age</th>\n",
       "      <th>Gender</th>\n",
       "      <th>Education Level</th>\n",
       "      <th>Job Title</th>\n",
       "      <th>Years of Experience</th>\n",
       "      <th>Salary</th>\n",
       "    </tr>\n",
       "  </thead>\n",
       "  <tbody>\n",
       "    <tr>\n",
       "      <th>0</th>\n",
       "      <td>32.0</td>\n",
       "      <td>Male</td>\n",
       "      <td>Bachelor's</td>\n",
       "      <td>Software Engineer</td>\n",
       "      <td>5.0</td>\n",
       "      <td>90000.0</td>\n",
       "    </tr>\n",
       "    <tr>\n",
       "      <th>1</th>\n",
       "      <td>28.0</td>\n",
       "      <td>Female</td>\n",
       "      <td>Master's</td>\n",
       "      <td>Data Analyst</td>\n",
       "      <td>3.0</td>\n",
       "      <td>65000.0</td>\n",
       "    </tr>\n",
       "    <tr>\n",
       "      <th>2</th>\n",
       "      <td>45.0</td>\n",
       "      <td>Male</td>\n",
       "      <td>PhD</td>\n",
       "      <td>Senior Manager</td>\n",
       "      <td>15.0</td>\n",
       "      <td>150000.0</td>\n",
       "    </tr>\n",
       "    <tr>\n",
       "      <th>3</th>\n",
       "      <td>36.0</td>\n",
       "      <td>Female</td>\n",
       "      <td>Bachelor's</td>\n",
       "      <td>Sales Associate</td>\n",
       "      <td>7.0</td>\n",
       "      <td>60000.0</td>\n",
       "    </tr>\n",
       "    <tr>\n",
       "      <th>4</th>\n",
       "      <td>52.0</td>\n",
       "      <td>Male</td>\n",
       "      <td>Master's</td>\n",
       "      <td>Director</td>\n",
       "      <td>20.0</td>\n",
       "      <td>200000.0</td>\n",
       "    </tr>\n",
       "  </tbody>\n",
       "</table>\n",
       "</div>"
      ],
      "text/plain": [
       "    Age  Gender Education Level          Job Title  Years of Experience  \\\n",
       "0  32.0    Male      Bachelor's  Software Engineer                  5.0   \n",
       "1  28.0  Female        Master's       Data Analyst                  3.0   \n",
       "2  45.0    Male             PhD     Senior Manager                 15.0   \n",
       "3  36.0  Female      Bachelor's    Sales Associate                  7.0   \n",
       "4  52.0    Male        Master's           Director                 20.0   \n",
       "\n",
       "     Salary  \n",
       "0   90000.0  \n",
       "1   65000.0  \n",
       "2  150000.0  \n",
       "3   60000.0  \n",
       "4  200000.0  "
      ]
     },
     "execution_count": 69,
     "metadata": {},
     "output_type": "execute_result"
    }
   ],
   "source": [
    "df = pd.read_csv('data/Salary Data.csv')\n",
    "\n",
    "\n",
    "df.head()"
   ]
  },
  {
   "cell_type": "markdown",
   "id": "aaf9db5e",
   "metadata": {},
   "source": [
    "We are going to predict the salary using only the \"years of experience\""
   ]
  },
  {
   "cell_type": "code",
   "execution_count": 70,
   "id": "6ac4ba82",
   "metadata": {},
   "outputs": [
    {
     "data": {
      "text/plain": [
       "(375, 6)"
      ]
     },
     "execution_count": 70,
     "metadata": {},
     "output_type": "execute_result"
    }
   ],
   "source": [
    "df.shape"
   ]
  },
  {
   "cell_type": "code",
   "execution_count": 71,
   "id": "bd898b0a",
   "metadata": {},
   "outputs": [
    {
     "data": {
      "text/plain": [
       "Index(['Age', 'Gender', 'Education Level', 'Job Title', 'Years of Experience',\n",
       "       'Salary'],\n",
       "      dtype='object')"
      ]
     },
     "execution_count": 71,
     "metadata": {},
     "output_type": "execute_result"
    }
   ],
   "source": [
    "df.columns"
   ]
  },
  {
   "cell_type": "code",
   "execution_count": 82,
   "id": "155871d0",
   "metadata": {},
   "outputs": [
    {
     "name": "stdout",
     "output_type": "stream",
     "text": [
      "0\n",
      "0\n"
     ]
    }
   ],
   "source": [
    "# check for nan values\n",
    "\n",
    "total_nan_values = df.isnull().sum().sum()\n",
    "print(total_nan_values)\n",
    "\n",
    "total_nan_values = df.isna().sum().sum()\n",
    "print(total_nan_values)"
   ]
  },
  {
   "cell_type": "code",
   "execution_count": 83,
   "id": "2309ad4d",
   "metadata": {},
   "outputs": [],
   "source": [
    "df.dropna(inplace=True)"
   ]
  },
  {
   "cell_type": "code",
   "execution_count": 84,
   "id": "90bf81ab",
   "metadata": {},
   "outputs": [
    {
     "name": "stdout",
     "output_type": "stream",
     "text": [
      "0\n",
      "0\n"
     ]
    }
   ],
   "source": [
    "total_nan_values = df.isnull().sum().sum()\n",
    "print(total_nan_values)\n",
    "\n",
    "total_nan_values = df.isna().sum().sum()\n",
    "print(total_nan_values)"
   ]
  },
  {
   "cell_type": "code",
   "execution_count": 85,
   "id": "e96c915a",
   "metadata": {},
   "outputs": [
    {
     "data": {
      "text/html": [
       "<div>\n",
       "<style scoped>\n",
       "    .dataframe tbody tr th:only-of-type {\n",
       "        vertical-align: middle;\n",
       "    }\n",
       "\n",
       "    .dataframe tbody tr th {\n",
       "        vertical-align: top;\n",
       "    }\n",
       "\n",
       "    .dataframe thead th {\n",
       "        text-align: right;\n",
       "    }\n",
       "</style>\n",
       "<table border=\"1\" class=\"dataframe\">\n",
       "  <thead>\n",
       "    <tr style=\"text-align: right;\">\n",
       "      <th></th>\n",
       "      <th>Years of Experience</th>\n",
       "    </tr>\n",
       "  </thead>\n",
       "  <tbody>\n",
       "    <tr>\n",
       "      <th>0</th>\n",
       "      <td>5.0</td>\n",
       "    </tr>\n",
       "    <tr>\n",
       "      <th>1</th>\n",
       "      <td>3.0</td>\n",
       "    </tr>\n",
       "    <tr>\n",
       "      <th>2</th>\n",
       "      <td>15.0</td>\n",
       "    </tr>\n",
       "  </tbody>\n",
       "</table>\n",
       "</div>"
      ],
      "text/plain": [
       "   Years of Experience\n",
       "0                  5.0\n",
       "1                  3.0\n",
       "2                 15.0"
      ]
     },
     "execution_count": 85,
     "metadata": {},
     "output_type": "execute_result"
    }
   ],
   "source": [
    "X = df[['Years of Experience']].copy()\n",
    "X.head(3) # X is a dataframe"
   ]
  },
  {
   "cell_type": "code",
   "execution_count": 86,
   "id": "64c0697c",
   "metadata": {},
   "outputs": [
    {
     "data": {
      "text/plain": [
       "0     90000.0\n",
       "1     65000.0\n",
       "2    150000.0\n",
       "Name: Salary, dtype: float64"
      ]
     },
     "execution_count": 86,
     "metadata": {},
     "output_type": "execute_result"
    }
   ],
   "source": [
    "y = df['Salary']\n",
    "y.head(3)"
   ]
  },
  {
   "cell_type": "code",
   "execution_count": 87,
   "id": "f0c2e3aa",
   "metadata": {},
   "outputs": [
    {
     "data": {
      "text/plain": [
       "<matplotlib.collections.PathCollection at 0x7fbcd13e1c90>"
      ]
     },
     "execution_count": 87,
     "metadata": {},
     "output_type": "execute_result"
    },
    {
     "data": {
      "image/png": "[encoded data removed]",
      "text/plain": [
       "<Figure size 640x480 with 1 Axes>"
      ]
     },
     "metadata": {},
     "output_type": "display_data"
    }
   ],
   "source": [
    "# let's plot\n",
    "plt.scatter(X,y)"
   ]
  },
  {
   "cell_type": "markdown",
   "id": "3e5da55e",
   "metadata": {},
   "source": [
    "Let's do some pre-processing:\n",
    "\n",
    "We're gonna normalize our input data X.\n",
    "\n",
    "We're going to use ScikitLearn's MinMaxScaler(), which normalizes the data by scaling the features to a specified range, typically between 0 and 1, based on the minimum and maximum values present in the data."
   ]
  },
  {
   "cell_type": "code",
   "execution_count": 88,
   "id": "6aed5c84",
   "metadata": {},
   "outputs": [],
   "source": [
    "# Create column transformer to apply transformations to specific columns\n",
    "ct = make_column_transformer(\n",
    "    (MinMaxScaler(), [\"Years of Experience\"]),  # Normalize \"Years of Experience\" column\n",
    "    remainder='passthrough'  # Pass through columns not specified for transformation\n",
    ")\n",
    "\n",
    "\n",
    "\n",
    "\n",
    "\n",
    "# train/test split\n",
    "X_train, X_test, y_train, y_test = train_test_split(X, y, test_size=0.2, random_state=42)\n",
    "\n",
    "# Fit column transformer on the training data only (doing so on test data would result in data leakage)\n",
    "ct.fit(X_train)\n",
    "\n",
    "\n",
    "\n",
    "# Transform training and test data with normalization (MinMaxScaler) and pass through the rest\n",
    "X_train_transformed = ct.transform(X_train)\n",
    "X_test_transformed = ct.transform(X_test)"
   ]
  },
  {
   "cell_type": "markdown",
   "id": "87e57128",
   "metadata": {},
   "source": [
    "<b>Note.</b> When you fit the transformer using X_train, you are essentially learning the parameters of the transformation based on the training data. This ensures that the transformation is applied consistently to both the training and testing data.\n",
    "\n",
    "Fitting the transformer on the training data helps prevent data leakage, which can occur when information from the testing set inadvertently influences the model training process. It ensures that the preprocessing steps are learned solely from the training data, which reflects the real-world scenario where the model will be deployed on unseen data."
   ]
  },
  {
   "cell_type": "code",
   "execution_count": 89,
   "id": "0b9845e5",
   "metadata": {},
   "outputs": [
    {
     "data": {
      "text/plain": [
       "((298, 1), (298,))"
      ]
     },
     "execution_count": 89,
     "metadata": {},
     "output_type": "execute_result"
    }
   ],
   "source": [
    "X_train_transformed.shape, y_train.shape"
   ]
  },
  {
   "cell_type": "code",
   "execution_count": 90,
   "id": "ecebf5ca",
   "metadata": {},
   "outputs": [
    {
     "data": {
      "text/plain": [
       "193     95000.0\n",
       "75      95000.0\n",
       "84      40000.0\n",
       "363     70000.0\n",
       "16      90000.0\n",
       "         ...   \n",
       "71      70000.0\n",
       "106     50000.0\n",
       "272     90000.0\n",
       "350    160000.0\n",
       "102    150000.0\n",
       "Name: Salary, Length: 298, dtype: float64"
      ]
     },
     "execution_count": 90,
     "metadata": {},
     "output_type": "execute_result"
    }
   ],
   "source": [
    "X_train_transformed\n",
    "\n",
    "\n",
    "y_train"
   ]
  },
  {
   "cell_type": "code",
   "execution_count": 91,
   "id": "246670f8",
   "metadata": {},
   "outputs": [
    {
     "data": {
      "text/plain": [
       "<matplotlib.collections.PathCollection at 0x7fbcd12303a0>"
      ]
     },
     "execution_count": 91,
     "metadata": {},
     "output_type": "execute_result"
    },
    {
     "data": {
      "image/png": "[encoded data removed]",
      "text/plain": [
       "<Figure size 640x480 with 1 Axes>"
      ]
     },
     "metadata": {},
     "output_type": "display_data"
    }
   ],
   "source": [
    "plt.scatter(X_train_transformed,y_train)"
   ]
  },
  {
   "cell_type": "code",
   "execution_count": 92,
   "id": "f0ce1026",
   "metadata": {},
   "outputs": [],
   "source": [
    "### Building our model"
   ]
  },
  {
   "cell_type": "code",
   "execution_count": 176,
   "id": "03b0bfe7",
   "metadata": {},
   "outputs": [],
   "source": [
    "def build_model():\n",
    "  model = keras.Sequential([\n",
    "    layers.Dense(100,input_shape=[X_train_transformed.shape[1]]),\n",
    "    layers.Dense(100),\n",
    "      layers.Dense(150),\n",
    "    tf.keras.layers.Dense(100),\n",
    "    layers.Dense(1)\n",
    "  ])\n",
    "\n",
    "  optimizer = tf.keras.optimizers.RMSprop(0.001)\n",
    "\n",
    "  model.compile(loss='mse',\n",
    "                optimizer=optimizer,\n",
    "                metrics=['mae', 'mse'])\n",
    "  return model"
   ]
  },
  {
   "cell_type": "code",
   "execution_count": 177,
   "id": "f7c699ec",
   "metadata": {},
   "outputs": [
    {
     "name": "stdout",
     "output_type": "stream",
     "text": [
      "Model: \"sequential_16\"\n",
      "_________________________________________________________________\n",
      " Layer (type)                Output Shape              Param #   \n",
      "=================================================================\n",
      " dense_60 (Dense)            (None, 100)               200       \n",
      "                                                                 \n",
      " dense_61 (Dense)            (None, 100)               10100     \n",
      "                                                                 \n",
      " dense_62 (Dense)            (None, 150)               15150     \n",
      "                                                                 \n",
      " dense_63 (Dense)            (None, 100)               15100     \n",
      "                                                                 \n",
      " dense_64 (Dense)            (None, 1)                 101       \n",
      "                                                                 \n",
      "=================================================================\n",
      "Total params: 40651 (158.79 KB)\n",
      "Trainable params: 40651 (158.79 KB)\n",
      "Non-trainable params: 0 (0.00 Byte)\n",
      "_________________________________________________________________\n"
     ]
    }
   ],
   "source": [
    "model = build_model()\n",
    "\n",
    "model.summary()"
   ]
  },
  {
   "cell_type": "markdown",
   "id": "e8f36c46",
   "metadata": {},
   "source": [
    "We are going to configure validation_split, which indicates the fraction of data to be used as the validation set. In this case, 20% of the data will be used as the validation set, and the remaining 80% will be used as the training set"
   ]
  },
  {
   "cell_type": "code",
   "execution_count": 181,
   "id": "be5f6613",
   "metadata": {},
   "outputs": [],
   "source": [
    "history = model.fit(\n",
    "        X_train_transformed,y_train,\n",
    "        validation_split=0.2,\n",
    "        epochs=50,\n",
    "        verbose=0\n",
    ")"
   ]
  },
  {
   "cell_type": "code",
   "execution_count": 152,
   "id": "65f89a46",
   "metadata": {},
   "outputs": [
    {
     "name": "stdout",
     "output_type": "stream",
     "text": [
      "3/3 [==============================] - 0s 3ms/step - loss: 265570080.0000 - mae: 12849.0205 - mse: 265570080.0000\n"
     ]
    }
   ],
   "source": [
    "scores = model.evaluate(X_test_transformed, y_test)"
   ]
  },
  {
   "cell_type": "code",
   "execution_count": 133,
   "id": "8a946a30",
   "metadata": {},
   "outputs": [
    {
     "data": {
      "text/plain": [
       "11434.8720703125"
      ]
     },
     "execution_count": 133,
     "metadata": {},
     "output_type": "execute_result"
    }
   ],
   "source": [
    "scores[1]"
   ]
  },
  {
   "cell_type": "code",
   "execution_count": null,
   "id": "9938b55b",
   "metadata": {},
   "outputs": [],
   "source": []
  },
  {
   "cell_type": "code",
   "execution_count": null,
   "id": "df3edd89",
   "metadata": {},
   "outputs": [],
   "source": []
  },
  {
   "cell_type": "code",
   "execution_count": null,
   "id": "af63839c",
   "metadata": {},
   "outputs": [],
   "source": []
  },
  {
   "cell_type": "code",
   "execution_count": null,
   "id": "9c0d381c",
   "metadata": {},
   "outputs": [],
   "source": []
  },
  {
   "cell_type": "code",
   "execution_count": null,
   "id": "88107a8d",
   "metadata": {},
   "outputs": [],
   "source": []
  },
  {
   "cell_type": "code",
   "execution_count": 112,
   "id": "544a48a8",
   "metadata": {},
   "outputs": [],
   "source": [
    "from sklearn.linear_model import LinearRegression\n",
    "from sklearn.metrics import mean_absolute_error, mean_squared_error\n",
    "\n",
    "# Baseline\n",
    "\n",
    "# Create a linear regression model\n",
    "baseline_model = LinearRegression()\n",
    "\n",
    "# Fit the model on the training data\n",
    "baseline_model.fit(X_train_transformed, y_train)\n",
    "\n",
    "# Make predictions on the testing data\n",
    "y_pred = baseline_model.predict(X_test_transformed)\n",
    "\n",
    "# Calculate Mean Absolute Error (MAE)\n",
    "mae = mean_absolute_error(y_test, y_pred)\n",
    "\n",
    "# Calculate Mean Squared Error (MSE)\n",
    "mse = mean_squared_error(y_test, y_pred)"
   ]
  },
  {
   "cell_type": "code",
   "execution_count": 113,
   "id": "d0e793a9",
   "metadata": {},
   "outputs": [
    {
     "data": {
      "text/plain": [
       "(12094.170341194764, 241834883.8999349)"
      ]
     },
     "execution_count": 113,
     "metadata": {},
     "output_type": "execute_result"
    }
   ],
   "source": [
    "mae, mse"
   ]
  },
  {
   "cell_type": "code",
   "execution_count": 119,
   "id": "65e5506e",
   "metadata": {},
   "outputs": [
    {
     "data": {
      "text/plain": [
       "(-1740.8413775552362, -50964284.10006511)"
      ]
     },
     "execution_count": 119,
     "metadata": {},
     "output_type": "execute_result"
    }
   ],
   "source": [
    "\n",
    "\n",
    "mae - scores[1], mse - scores[2]\n",
    "\n"
   ]
  },
  {
   "cell_type": "code",
   "execution_count": 172,
   "id": "512fa0a9",
   "metadata": {},
   "outputs": [
    {
     "data": {
      "image/png": "[encoded data removed]",
      "text/plain": [
       "<Figure size 1200x600 with 2 Axes>"
      ]
     },
     "metadata": {},
     "output_type": "display_data"
    }
   ],
   "source": [
    "def plot_history(history):\n",
    "    hist = pd.DataFrame(history.history)\n",
    "    hist['epoch'] = history.epoch\n",
    "\n",
    "    # Create a figure with two subplots side by side\n",
    "    fig, axs = plt.subplots(1, 2, figsize=(12, 6))  # 1 row, 2 columns\n",
    "\n",
    "\n",
    "    #plt.figure()\n",
    "    axs[0].set_title('MAE',fontsize=14, fontweight='bold',color='red')\n",
    "    axs[0].set_xlabel('Epoch')\n",
    "    axs[0].set_ylabel('Mean Abs Error [MPG]')\n",
    "    axs[0].plot(hist['epoch'], hist['mae'],\n",
    "           label='Train Error')\n",
    "    axs[0].plot(hist['epoch'], hist['val_mae'],\n",
    "           label = 'Val Error')\n",
    "    #plt.ylim([0,5])\n",
    "    axs[0].legend()\n",
    "\n",
    "    #plt.figure()\n",
    "    axs[1].set_title('MSE',fontsize=14, fontweight='bold',color='orange')\n",
    "    axs[1].set_xlabel('Epoch')\n",
    "    axs[1].set_ylabel('Mean Square Error [$MPG^2$]')\n",
    "    axs[1].plot(hist['epoch'], hist['mse'],\n",
    "           label='Train Error')\n",
    "    axs[1].plot(hist['epoch'], hist['val_mse'],\n",
    "           label = 'Val Error')\n",
    "    #plt.ylim([0,20])\n",
    "    axs[1].legend()\n",
    "    #axs[1].show()\n",
    "\n",
    "\n",
    "plot_history(history)"
   ]
  },
  {
   "cell_type": "code",
   "execution_count": 196,
   "id": "6206d325",
   "metadata": {},
   "outputs": [
    {
     "name": "stdout",
     "output_type": "stream",
     "text": [
      "1/1 [==============================] - 0s 69ms/step\n"
     ]
    }
   ],
   "source": [
    "# Assume 'input_data' is the input data you want to make predictions on\n",
    "input_data = np.array([[5]])  # Example: 5 years of experience\n",
    "\n",
    "\n",
    "\n",
    "data = {\n",
    "    \"Years of Experience\": [5.0, 3.0]  # Example data for years of experience\n",
    "}\n",
    "\n",
    "# Create a pandas DataFrame\n",
    "df = pd.DataFrame(data)\n",
    "\n",
    "\n",
    "df\n",
    "\n",
    "\n",
    "input_transformed = ct.transform(df)\n",
    "\n",
    "\n",
    "# Transform the input data using the column transformer\n",
    "#input_transformed = ct.transform(input_data)\n",
    "\n",
    "\n",
    "\n",
    "\n",
    "# You may need to reshape the input data if it's a single feature\n",
    "#input_normalized = input_normalized.reshape(-1, 1)\n",
    "\n",
    "# Make predictions using the normalized input\n",
    "prediction = model.predict(input_transformed)"
   ]
  },
  {
   "cell_type": "code",
   "execution_count": 197,
   "id": "36acda98",
   "metadata": {},
   "outputs": [
    {
     "data": {
      "text/plain": [
       "array([[66221.37 ],\n",
       "       [52039.637]], dtype=float32)"
      ]
     },
     "execution_count": 197,
     "metadata": {},
     "output_type": "execute_result"
    }
   ],
   "source": [
    "prediction"
   ]
  },
  {
   "cell_type": "code",
   "execution_count": null,
   "id": "c6e6b2ca",
   "metadata": {},
   "outputs": [],
   "source": []
  }
 ],
 "metadata": {
  "kernelspec": {
   "display_name": "Python 3 (ipykernel)",
   "language": "python",
   "name": "python3"
  },
  "language_info": {
   "codemirror_mode": {
    "name": "ipython",
    "version": 3
   },
   "file_extension": ".py",
   "mimetype": "text/x-python",
   "name": "python",
   "nbconvert_exporter": "python",
   "pygments_lexer": "ipython3",
   "version": "3.10.12"
  }
 },
 "nbformat": 4,
 "nbformat_minor": 5
}
